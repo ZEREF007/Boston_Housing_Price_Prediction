{
 "cells": [
  {
   "cell_type": "markdown",
   "metadata": {},
   "source": [
    "# Boston Housing Price Prediction\n",
    "\n",
    "**Approach**:\n",
    "1. Problem definition\n",
    "2. Data\n",
    "3. Data Preprocessing/Formating the data\n",
    "4. Feature Engineering\n",
    "5. Modelling\n",
    "6. Evaluation\n",
    "7. Experimentation\n",
    "\n",
    "## Problem definition\n",
    "\n",
    "The problem that we are going to solve here is that given a set of features that describe a house in Boston, our machine learning model must predict the house price. To train our machine learning model with boston housing data, we will be using boston housing price dataset.\n",
    "\n",
    "In this dataset, each row describes a boston town or suburb. There are 506 rows and 13 attributes (features) with a target column (price). http://lib.stat.cmu.edu/datasets/boston_corrected.txt\n",
    "\n",
    "This notebook will look into various machine learning algorithms, data science tools in an attempt to build a machine learning model capable of predicting house price based one the house attributes.\n",
    "\n",
    "\n",
    "\n",
    "## Data\n",
    "\n",
    "Dataset contains information collected by the U.S Census Service concerning housing in the area of Boston Mass \n",
    "Overview:\n",
    "There are 14 attributes in each case of the dataset. They are:\n",
    "* CRIM - per capita crime rate by town\n",
    "* ZN - proportion of residential land zoned for lots over 25,000 sq.ft.\n",
    "* INDUS - proportion of non-retail business acres per town.\n",
    "* CHAS - Charles River dummy variable (1 if tract bounds river; 0 otherwise)\n",
    "* NOX - nitric oxides concentration (parts per 10 million)\n",
    "* RM - average number of rooms per dwelling\n",
    "* AGE - proportion of owner-occupied units built prior to 1940\n",
    "* DIS - weighted distances to five Boston employment centers\n",
    "* RAD - index of accessibility to radial highways\n",
    "* TAX - full-value property-tax rate per &#36;10,000\n",
    "* PTRATIO - pupil-teacher ratio by town\n",
    "* B - 1000(Bk - 0.63)^2 where Bk is the proportion of blacks by town\n",
    "* LSTAT - % lower status of the population\n",
    "* MEDV - Median value of owner-occupied homes in &#36;1000's\n"
   ]
  }
 ],
 "metadata": {
  "kernelspec": {
   "display_name": "Python 3 (ipykernel)",
   "language": "python",
   "name": "python3"
  },
  "language_info": {
   "codemirror_mode": {
    "name": "ipython",
    "version": 3
   },
   "file_extension": ".py",
   "mimetype": "text/x-python",
   "name": "python",
   "nbconvert_exporter": "python",
   "pygments_lexer": "ipython3",
   "version": "3.9.13"
  },
  "toc": {
   "base_numbering": 1,
   "nav_menu": {},
   "number_sections": true,
   "sideBar": true,
   "skip_h1_title": false,
   "title_cell": "Table of Contents",
   "title_sidebar": "Contents",
   "toc_cell": false,
   "toc_position": {},
   "toc_section_display": true,
   "toc_window_display": false
  }
 },
 "nbformat": 4,
 "nbformat_minor": 2
}
